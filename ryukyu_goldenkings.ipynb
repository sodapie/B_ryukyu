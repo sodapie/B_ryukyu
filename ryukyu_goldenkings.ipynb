{
 "cells": [
  {
   "cell_type": "markdown",
   "metadata": {},
   "source": [
    "***\n",
    "# importとdef"
   ]
  },
  {
   "cell_type": "code",
   "execution_count": null,
   "metadata": {},
   "outputs": [],
   "source": [
    "from pandas import json_normalize\n",
    "import pandas as pd\n",
    "import json\n",
    "import datetime\n",
    "import glob\n",
    "import re"
   ]
  },
  {
   "cell_type": "code",
   "execution_count": null,
   "metadata": {},
   "outputs": [],
   "source": [
    "def get_files(date):\n",
    "    # ファイルパスのパターン定義\n",
    "    pattern = f\"/Users/name/vscode/task/dynamic_pricing-main/bleague_scraping/ryukyu/data/*_{date}_price.json\" # *_{date}_price.jsonが格納されているパスを入力する\n",
    "    \n",
    "    # パターンに一致するファイルのリストを取得\n",
    "    files = glob.glob(pattern)\n",
    "    \n",
    "    # gamedateの要素を抽出するためのリストを初期化\n",
    "    gamedates = []\n",
    "    \n",
    "    # ファイル名からgamedateを抽出\n",
    "    for file in files:\n",
    "        match = re.search(r\"(\\d+)_\\d{4}_price\\.json\", file)\n",
    "        if match:\n",
    "            gamedates.append(match.group(1))     \n",
    "    \n",
    "    for gamedate in gamedates:\n",
    "        #priceに関するjsonデータを取得\n",
    "        filepath_price = f\"/Users/name/vscode/task/main/bleague_scraping/ryukyu/data/{gamedate}_{date}_price.json\" # *_{date}_price.jsonが格納されているパスを入力する\n",
    "        #sectionに関するjsonデータを取得\n",
    "        filepath_section = f\"/Users/name/vscode/task/main/bleague_scraping/ryukyu/data/{gamedate}_{date}_section.json\" # *_{date}_section.jsonが格納されているパスを入力する\n",
    "\n",
    "\n",
    "        # JSONデータを変換\n",
    "        data = pd.read_json(filepath_section)\n",
    "        # sectionデータからセクション名、priceLevel（sectionsデータとの紐付け用ID）、amount（在庫数）を抽出\n",
    "        results = []\n",
    "        for section, details in data.items():\n",
    "            for price_info in details[\"availability\"][\"prices\"]:\n",
    "                result = {\n",
    "                    \"section\": section,\n",
    "                    \"priceLevel\": price_info[\"priceLevel\"],\n",
    "                    \"amount\": price_info[\"amount\"]\n",
    "                    }\n",
    "                results.append(result)\n",
    "            section_data = pd.DataFrame(results) # section_dataが完成\n",
    "\n",
    "\n",
    "        # ファイルを開き、JSONとして読み込む\n",
    "        with open(filepath_price, 'r', encoding='utf-8') as file:\n",
    "            data = json.load(file)\n",
    "        # priceデータからgame_info（試合日を抜き出す）、game_info2（awayチームを抜き出す）、priceLevelID（priceデータとの紐付け用ID）、label（席種名）、priveTypeID（販売者区分）、base（値段）を抽出\n",
    "        price_deta = []\n",
    "        for offer in data['offerPrices']:\n",
    "            for zone in offer['zonePrices']:\n",
    "                for level in zone['priceLevels']:\n",
    "                    for price in level['prices']:\n",
    "                        price_deta.append({\n",
    "                            'game_info' : offer['offerLookupId'],\n",
    "                            'game_info2' : offer[\"offerName\"],\n",
    "                            'priceLevelID': level['priceLevelID'],\n",
    "                            'label': level['label'],\n",
    "                            'priceTypeID': price['priceTypeID'],\n",
    "                            'base': price['base']\n",
    "                            })\n",
    "        price_data = pd.DataFrame(price_deta) # price_dataが完成\n",
    "\n",
    "\n",
    "        # データの取得日をdata_get_dateに記入\n",
    "        year_string = datetime.datetime.now().year\n",
    "        formatted_date_string = f\"{year_string}{date}\"\n",
    "        price_data[\"data_get_date\"] = pd.to_datetime(formatted_date_string,format='%Y%m%d')\n",
    "\n",
    "        # game_info内の連続する数値8つを試合日としgame_dateに記入\n",
    "        price_data['game_date'] = price_data['game_info'].str.extract(r'(\\d{8})')\n",
    "        price_data['game_date'] = pd.to_datetime(price_data['game_date'], format='%Y%m%d')\n",
    "\n",
    "        # ホームチームをhome_teamに記入\n",
    "        price_data[\"home_team\"] = \"琉球\"\n",
    "        \n",
    "        # game_info内のvsの後の文字をアウェイチームとしaway_teamに記入\n",
    "        price_data['away_team'] = price_data['game_info2'].str.extract(r'vs([^\\s]+)')\n",
    "        \n",
    "        # priceTypeID（販売者区分）から販売者の情報を引き出しpriveTyepIDに記入\n",
    "        price_data[\"priceTypeID\"].replace({\n",
    "            \"650\": \"大人・こども共通\",\n",
    "            \"651\": \"大人\",\n",
    "            \"652\": \"こども\"\n",
    "            }, inplace=True)\n",
    "\n",
    "\n",
    "        # 仕上げ処理\n",
    "        try:\n",
    "            # priceLevelとpriceLevelIDを紐付け、price_dataとsection_dataを一つに結合\n",
    "            pl = pd.merge(section_data, price_data, left_on='priceLevel', right_on='priceLevelID', how='inner')\n",
    "\n",
    "            # 100倍になっている値段を修正\n",
    "            pl[\"base\"] = pl[\"base\"] / 100\n",
    "\n",
    "            # カラム名を分かりやすい名前に修正\n",
    "            pl = pl.rename(columns={\n",
    "                \"priceLevel\" : \"席種ID\",\n",
    "                \"amount\" : \"残り席数\",\n",
    "                \"label\" : \"席種名\",\n",
    "                \"priceTypeID\" : \"販売者区分\",\n",
    "                \"base\" : \"値段\"\n",
    "                })\n",
    "            \n",
    "            # 必要ないカラムを削除\n",
    "            pl = pl.drop(columns=[\"席種ID\",\"game_info\",\"game_info2\",\"priceLevelID\"])\n",
    "            \n",
    "            # ファイル名を「試合日_データ取得日_ホームチーム名.csv」となるように設定し保存する\n",
    "            data_get_date_filename, game_date_filename = pl[\"data_get_date\"][0].strftime(\"%m%d\"), pl[\"game_date\"][0].strftime(\"%m%d\")\n",
    "            pl.to_csv(f\"{game_date_filename}_{data_get_date_filename}_ryukyu.csv\",encoding=\"shift-jis\",index=False)\n",
    "            \n",
    "        except KeyError:\n",
    "            pass"
   ]
  },
  {
   "cell_type": "markdown",
   "metadata": {},
   "source": [
    "***\n",
    "# 本日分のデータを加工するコード"
   ]
  },
  {
   "cell_type": "code",
   "execution_count": null,
   "metadata": {},
   "outputs": [],
   "source": [
    "#今日の日付を4桁の数字で取得\n",
    "date = pd.to_datetime(datetime.date.today()).strftime(\"%m%d\")"
   ]
  },
  {
   "cell_type": "code",
   "execution_count": null,
   "metadata": {},
   "outputs": [],
   "source": [
    "get_files(date)"
   ]
  },
  {
   "cell_type": "markdown",
   "metadata": {},
   "source": [
    "***\n",
    "# 以前の日付のデータを加工するコード"
   ]
  },
  {
   "cell_type": "code",
   "execution_count": null,
   "metadata": {},
   "outputs": [],
   "source": [
    "#今日の日付を4桁の数字で取得\n",
    "date_you_use = \"0307\" # 任意の日付を入力する"
   ]
  },
  {
   "cell_type": "code",
   "execution_count": null,
   "metadata": {},
   "outputs": [],
   "source": [
    "get_files(date)"
   ]
  }
 ],
 "metadata": {
  "language_info": {
   "name": "python"
  }
 },
 "nbformat": 4,
 "nbformat_minor": 2
}
